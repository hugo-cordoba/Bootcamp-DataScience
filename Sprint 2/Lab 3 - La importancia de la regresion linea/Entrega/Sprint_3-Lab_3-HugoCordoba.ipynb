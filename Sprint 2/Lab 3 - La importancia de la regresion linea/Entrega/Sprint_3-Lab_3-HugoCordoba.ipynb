{
 "cells": [
  {
   "cell_type": "markdown",
   "metadata": {},
   "source": [
    "**IMPORTAMOS LAS LIBRERIAS**"
   ]
  },
  {
   "cell_type": "code",
   "execution_count": 1,
   "metadata": {},
   "outputs": [],
   "source": [
    "import pandas as pd\n",
    "import statsmodels.api as sm\n",
    "import matplotlib.pyplot as plt"
   ]
  },
  {
   "cell_type": "markdown",
   "metadata": {},
   "source": [
    "**CARGAMOS EL DATASET**"
   ]
  },
  {
   "cell_type": "code",
   "execution_count": 2,
   "metadata": {},
   "outputs": [],
   "source": [
    "file_path = './Excel_Problema-Lab-03_Ventas-producto-tecnologico_Estadistica-Aplicada-al-Marketing.xlsx'\n",
    "df = pd.read_excel(file_path)"
   ]
  },
  {
   "cell_type": "markdown",
   "metadata": {},
   "source": [
    "**Exploracion inicial de los datos**"
   ]
  },
  {
   "cell_type": "code",
   "execution_count": 3,
   "metadata": {},
   "outputs": [
    {
     "name": "stdout",
     "output_type": "stream",
     "text": [
      "      Semana  Ventas  TV grps 20seg AD55  inversion TV  radio grps 20seg AD15  \\\n",
      "0 2022-01-02      76             42.0000      14635.46                     50   \n",
      "1 2022-01-09      85            132.8000      14635.46                     51   \n",
      "2 2022-01-16      81             94.1200      14635.46                     50   \n",
      "3 2022-01-23      86             71.6480      13623.01                     51   \n",
      "4 2022-01-30      84             47.6592       7548.30                     53   \n",
      "\n",
      "   inversion radio  FB impresiones  FB clics  inversion FB  \\\n",
      "0          6587.78           48694      2169          8899   \n",
      "1          6311.32           48694      2169          8899   \n",
      "2          6551.96           48694      2169          8899   \n",
      "3          6361.63           50478      2473          9089   \n",
      "4          6900.81           61182      4297         10233   \n",
      "\n",
      "   TV grps 20seg competidor 1  TV grps 20seg competidor 2  \\\n",
      "0                          34                           6   \n",
      "1                          24                           7   \n",
      "2                          26                           6   \n",
      "3                          19                          10   \n",
      "4                          20                          14   \n",
      "\n",
      "   TV grps 20seg competidor 3   paro  \n",
      "0                          12  15.50  \n",
      "1                          14  15.58  \n",
      "2                          17  15.66  \n",
      "3                          19  15.74  \n",
      "4                          15  15.82  \n",
      "                    Semana     Ventas  TV grps 20seg AD55  inversion TV  \\\n",
      "count                   25  25.000000           25.000000     25.000000   \n",
      "mean   2022-03-27 00:00:00  75.120000          111.739236  14496.216000   \n",
      "min    2022-01-02 00:00:00  47.000000           20.900149   6878.080000   \n",
      "25%    2022-02-13 00:00:00  69.000000           71.648000   7548.300000   \n",
      "50%    2022-03-27 00:00:00  79.000000           87.844830  11789.120000   \n",
      "75%    2022-05-08 00:00:00  85.000000          184.744024  23562.580000   \n",
      "max    2022-06-19 00:00:00  93.000000          213.103618  24413.960000   \n",
      "std                    NaN  12.603968           62.112004   7076.051702   \n",
      "\n",
      "       radio grps 20seg AD15  inversion radio  FB impresiones     FB clics  \\\n",
      "count              25.000000        25.000000       25.000000    25.000000   \n",
      "mean               49.120000      6602.924800    43992.520000  3111.120000   \n",
      "min                37.000000      5642.950000     2624.000000   173.000000   \n",
      "25%                49.000000      6445.030000    36733.000000  2473.000000   \n",
      "50%                50.000000      6687.520000    48694.000000  3207.000000   \n",
      "75%                52.000000      6900.810000    57890.000000  4140.000000   \n",
      "max                54.000000      7352.940000    67798.000000  5441.000000   \n",
      "std                 4.512206       474.368658    17310.871681  1211.719382   \n",
      "\n",
      "       inversion FB  TV grps 20seg competidor 1  TV grps 20seg competidor 2  \\\n",
      "count     25.000000                   25.000000                   25.000000   \n",
      "mean   10325.200000                   33.280000                    7.400000   \n",
      "min     8526.000000                   19.000000                    2.000000   \n",
      "25%     8899.000000                   27.000000                    3.000000   \n",
      "50%     9326.000000                   35.000000                    6.000000   \n",
      "75%    11538.000000                   39.000000                   10.000000   \n",
      "max    13422.000000                   42.000000                   31.000000   \n",
      "std     1732.796223                    7.294518                    6.557439   \n",
      "\n",
      "       TV grps 20seg competidor 3       paro  \n",
      "count                   25.000000  25.000000  \n",
      "mean                    13.640000  16.132000  \n",
      "min                      5.000000  15.500000  \n",
      "25%                     11.000000  16.025000  \n",
      "50%                     13.000000  16.200000  \n",
      "75%                     15.000000  16.375000  \n",
      "max                     36.000000  16.400000  \n",
      "std                      5.894065   0.280543  \n"
     ]
    }
   ],
   "source": [
    "print(df.head())\n",
    "print(df.describe())"
   ]
  },
  {
   "cell_type": "markdown",
   "metadata": {},
   "source": [
    "**Definir variables independientes (X) y variable dependiente (y)**"
   ]
  },
  {
   "cell_type": "code",
   "execution_count": 4,
   "metadata": {},
   "outputs": [],
   "source": [
    "X = df[['TV grps 20seg AD55', 'inversion TV', \n",
    "        'radio grps 20seg AD15', 'inversion radio', \n",
    "        'FB impresiones', 'FB clics', 'inversion FB', \n",
    "        'TV grps 20seg competidor 1', 'TV grps 20seg competidor 2', 'TV grps 20seg competidor 3', \n",
    "        'paro']]\n",
    "y = df['Ventas']\n",
    "\n",
    "\n",
    "# Añadir constante a X para el término independiente\n",
    "X = sm.add_constant(X)"
   ]
  },
  {
   "cell_type": "markdown",
   "metadata": {},
   "source": [
    "**Creacion del modelo de Regresion Lineal - OLS (Ordinary Least Squares)**"
   ]
  },
  {
   "cell_type": "code",
   "execution_count": 5,
   "metadata": {},
   "outputs": [
    {
     "name": "stdout",
     "output_type": "stream",
     "text": [
      "                            OLS Regression Results                            \n",
      "==============================================================================\n",
      "Dep. Variable:                 Ventas   R-squared:                       0.889\n",
      "Model:                            OLS   Adj. R-squared:                  0.795\n",
      "Method:                 Least Squares   F-statistic:                     9.487\n",
      "Date:                Sun, 07 Jul 2024   Prob (F-statistic):           0.000159\n",
      "Time:                        18:29:29   Log-Likelihood:                -70.810\n",
      "No. Observations:                  25   AIC:                             165.6\n",
      "Df Residuals:                      13   BIC:                             180.2\n",
      "Df Model:                          11                                         \n",
      "Covariance Type:            nonrobust                                         \n",
      "==============================================================================================\n",
      "                                 coef    std err          t      P>|t|      [0.025      0.975]\n",
      "----------------------------------------------------------------------------------------------\n",
      "const                        237.7312    165.509      1.436      0.175    -119.829     595.291\n",
      "TV grps 20seg AD55             0.1651      0.054      3.076      0.009       0.049       0.281\n",
      "inversion TV                  -0.0018      0.001     -2.216      0.045      -0.004   -4.46e-05\n",
      "radio grps 20seg AD15          0.8887      0.458      1.940      0.074      -0.101       1.878\n",
      "inversion radio                0.0067      0.004      1.795      0.096      -0.001       0.015\n",
      "FB impresiones                 0.0004      0.000      1.093      0.294      -0.000       0.001\n",
      "FB clics                      -0.0073      0.005     -1.378      0.192      -0.019       0.004\n",
      "inversion FB                   0.0044      0.002      1.954      0.073      -0.000       0.009\n",
      "TV grps 20seg competidor 1     0.2631      0.441      0.596      0.561      -0.690       1.216\n",
      "TV grps 20seg competidor 2    -0.0205      0.222     -0.092      0.928      -0.499       0.458\n",
      "TV grps 20seg competidor 3     0.0263      0.298      0.088      0.931      -0.617       0.669\n",
      "paro                         -18.2213     10.120     -1.800      0.095     -40.085       3.642\n",
      "==============================================================================\n",
      "Omnibus:                        1.620   Durbin-Watson:                   2.196\n",
      "Prob(Omnibus):                  0.445   Jarque-Bera (JB):                1.352\n",
      "Skew:                           0.538   Prob(JB):                        0.509\n",
      "Kurtosis:                       2.627   Cond. No.                     7.34e+06\n",
      "==============================================================================\n",
      "\n",
      "Notes:\n",
      "[1] Standard Errors assume that the covariance matrix of the errors is correctly specified.\n",
      "[2] The condition number is large, 7.34e+06. This might indicate that there are\n",
      "strong multicollinearity or other numerical problems.\n"
     ]
    }
   ],
   "source": [
    "modelo = sm.OLS(y, X).fit()\n",
    "\n",
    "print(modelo.summary())"
   ]
  },
  {
   "cell_type": "markdown",
   "metadata": {},
   "source": [
    "**Visualizacion de los resultados**"
   ]
  },
  {
   "cell_type": "code",
   "execution_count": 6,
   "metadata": {},
   "outputs": [
    {
     "data": {
      "image/png": "[encoded data removed]",
      "text/plain": [
       "<Figure size 1000x600 with 1 Axes>"
      ]
     },
     "metadata": {},
     "output_type": "display_data"
    }
   ],
   "source": [
    "predicciones = modelo.predict(X)\n",
    "\n",
    "plt.figure(figsize=(10, 6))\n",
    "plt.scatter(y, predicciones)\n",
    "plt.plot(y, y, color='red', label='Valor real = Predicción')\n",
    "plt.xlabel('Ventas reales')\n",
    "plt.ylabel('Ventas predichas')\n",
    "plt.title('Predicción vs. Valores reales')\n",
    "plt.legend()\n",
    "plt.grid(True)\n",
    "plt.show()"
   ]
  },
  {
   "cell_type": "markdown",
   "metadata": {},
   "source": [
    "# Analisis de los datos"
   ]
  },
  {
   "cell_type": "markdown",
   "metadata": {},
   "source": [
    "**Estadísticas Descriptivas**:\n",
    "\n",
    "La media de ventas semanales es de aproximadamente 75 unidades, con un mínimo de 47 y un máximo de 93.\n",
    "Las inversiones en publicidad varían significativamente, con desviaciones estándar considerables, especialmente en las inversiones de TV y radio.\n",
    "\n",
    "**Coeficientes del Modelo**:\n",
    "\n",
    "R-cuadrado ajustado: El modelo tiene un R-cuadrado ajustado de 0.795, lo que indica que aproximadamente el 79.5% de la variabilidad en las ventas semanales puede explicarse por las variables incluidas en el modelo.\n",
    "\n",
    "**Coeficientes significativos**:\n",
    "\n",
    "Las variables significativas (con p-valores menores a 0.05) son: TV grps 20seg AD55 (positivo), inversion TV (negativo), y radio grps 20seg AD15 (positivo). Esto sugiere que un aumento en los GRPs de TV y radio podría estar asociado con aumentos en las ventas, mientras que un aumento en la inversión en TV podría estar asociado con disminuciones en las ventas.\n",
    "Otras variables como inversion radio, inversion FB, y paro muestran p-valores cercanos al umbral de significancia (0.05), pero no son estadísticamente significativas en este modelo.\n",
    "\n",
    "**Gráfico de Predicción vs. Valores Reales**:\n",
    "\n",
    "El gráfico muestra una tendencia donde las predicciones del modelo están generalmente alineadas con los valores reales de ventas, aunque hay algunos puntos dispersos. Esto indica un ajuste razonable del modelo, pero puede haber espacio para mejorar la precisión predictiva."
   ]
  },
  {
   "cell_type": "markdown",
   "metadata": {},
   "source": [
    "# Conclusion"
   ]
  },
  {
   "cell_type": "markdown",
   "metadata": {},
   "source": [
    "**Calidad del Modelo**: El modelo de regresión lineal ajustado tiene un buen R-cuadrado ajustado, lo que indica que las variables incluidas explican una gran parte de la variabilidad en las ventas semanales.\n",
    "\n",
    "**Variables Significativas**: Es importante notar que no todas las variables de inversión en publicidad resultaron significativas. Esto puede deberse a varios factores, como la multicolinealidad entre variables o la necesidad de incluir más datos para capturar mejor los efectos de las inversiones publicitarias.\n",
    "\n",
    "**Consideraciones Adicionales**: Sería beneficioso realizar pruebas de diagnóstico adicionales para verificar la suposición de normalidad de los residuos y la presencia de multicolinealidad entre las variables explicativas."
   ]
  }
 ],
 "metadata": {
  "kernelspec": {
   "display_name": "base",
   "language": "python",
   "name": "python3"
  },
  "language_info": {
   "codemirror_mode": {
    "name": "ipython",
    "version": 3
   },
   "file_extension": ".py",
   "mimetype": "text/x-python",
   "name": "python",
   "nbconvert_exporter": "python",
   "pygments_lexer": "ipython3",
   "version": "3.11.7"
  }
 },
 "nbformat": 4,
 "nbformat_minor": 2
}
